{
 "cells": [
  {
   "cell_type": "code",
   "execution_count": 1,
   "metadata": {},
   "outputs": [],
   "source": [
    "import numpy as np\n",
    "import tensorflow as tf\n",
    "import matplotlib.pyplot as plt"
   ]
  },
  {
   "cell_type": "code",
   "execution_count": 2,
   "metadata": {},
   "outputs": [],
   "source": [
    "# Define the neural network\n",
    "class ODENet(tf.keras.Model):\n",
    "    def __init__(self):\n",
    "        super(ODENet, self).__init__()\n",
    "        self.dense1 = tf.keras.layers.Dense(100, activation='tanh', kernel_regularizer=tf.keras.regularizers.l2(0.01))\n",
    "        self.dense2 = tf.keras.layers.Dense(100, activation='tanh', kernel_regularizer=tf.keras.regularizers.l2(0.01))\n",
    "        self.dense3 = tf.keras.layers.Dense(1, activation='linear')\n",
    "\n",
    "    def call(self, x):\n",
    "        x = self.dense1(x)\n",
    "        x = self.dense2(x)\n",
    "        return self.dense3(x)\n",
    "\n",
    "model = ODENet()"
   ]
  },
  {
   "cell_type": "code",
   "execution_count": 3,
   "metadata": {},
   "outputs": [],
   "source": [
    "# Central difference for second derivative\n",
    "def second_derivative(y, h=0.01):\n",
    "    d2y = (y[2:] - 2*y[1:-1] + y[:-2]) / h**2\n",
    "    return d2y\n",
    "\n",
    "# Loss function\n",
    "def loss_fn(model, x, f, h=0.01):\n",
    "    with tf.GradientTape(persistent=True) as tape2:\n",
    "        with tf.GradientTape(persistent=True) as tape1:\n",
    "            tape2.watch(x)\n",
    "            tape1.watch(x)\n",
    "            y_pred = model(x)\n",
    "        dy_dx = tape1.gradient(y_pred, x)\n",
    "    d2y_dx2 = tape2.gradient(dy_dx, x)\n",
    "\n",
    "    # Residual from the differential equation\n",
    "    residual = (d2y_dx2 - f(x)) / h\n",
    "\n",
    "    # Calculate the loss as the squared error\n",
    "    loss = tf.reduce_mean(tf.square(residual))\n",
    "    \n",
    "    # Add boundary conditions to the loss\n",
    "    loss += 0.5 * tf.square(model(tf.constant([[0.0]], dtype=tf.float32)))\n",
    "    loss += 0.5 * tf.square(model(tf.constant([[1.0]], dtype=tf.float32)))\n",
    "    \n",
    "    return loss\n"
   ]
  },
  {
   "cell_type": "code",
   "execution_count": 4,
   "metadata": {},
   "outputs": [],
   "source": [
    "# Define the optimizer\n",
    "optimizer = tf.keras.optimizers.legacy.Adamax(learning_rate=0.001)\n",
    "\n",
    "# Train the model\n",
    "def train_step(model, x, f, h=0.01):\n",
    "    with tf.GradientTape() as tape:\n",
    "        loss = loss_fn(model, x, f, h)\n",
    "    grads = tape.gradient(loss, model.trainable_weights)\n",
    "    optimizer.apply_gradients(zip(grads, model.trainable_weights))\n",
    "    return loss\n",
    "\n",
    "# Define f(x)\n",
    "def f(x):\n",
    "    return model(x)\n",
    "\n",
    "# Define the analytical solution\n",
    "def analytical_solution(t):\n",
    "    return (-np.exp(1)/(-np.exp(2)+1)*np.exp(t) + np.exp(1)/(-np.exp(2)+1)*np.exp(-t))\n",
    "\n",
    "\n",
    "# Boundary conditions\n",
    "y0 = tf.constant([[0.0]], dtype=tf.float32)\n",
    "y1 = tf.constant([[1.0]], dtype=tf.float32)\n",
    "\n",
    "# Train the model"
   ]
  },
  {
   "cell_type": "code",
   "execution_count": null,
   "metadata": {},
   "outputs": [],
   "source": []
  }
 ],
 "metadata": {
  "kernelspec": {
   "display_name": "Python 3",
   "language": "python",
   "name": "python3"
  },
  "language_info": {
   "codemirror_mode": {
    "name": "ipython",
    "version": 3
   },
   "file_extension": ".py",
   "mimetype": "text/x-python",
   "name": "python",
   "nbconvert_exporter": "python",
   "pygments_lexer": "ipython3",
   "version": "3.10.5"
  }
 },
 "nbformat": 4,
 "nbformat_minor": 2
}
