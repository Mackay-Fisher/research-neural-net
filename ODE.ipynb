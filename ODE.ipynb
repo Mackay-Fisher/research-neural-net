{
 "cells": [
  {
   "cell_type": "code",
   "execution_count": 3,
   "metadata": {},
   "outputs": [
    {
     "ename": "IndentationError",
     "evalue": "expected an indented block after function definition on line 54 (2624794169.py, line 57)",
     "output_type": "error",
     "traceback": [
      "\u001b[0;36m  Cell \u001b[0;32mIn[3], line 57\u001b[0;36m\u001b[0m\n\u001b[0;31m    def analytical_solution(t):\u001b[0m\n\u001b[0m    ^\u001b[0m\n\u001b[0;31mIndentationError\u001b[0m\u001b[0;31m:\u001b[0m expected an indented block after function definition on line 54\n"
     ]
    }
   ],
   "source": [
    "import numpy as np\n",
    "import tensorflow as tf\n",
    "import matplotlib.pyplot as plt\n",
    "#Relu squared activation function\n",
    "#Need to change \n",
    "class ODENet(tf.keras.Model):\n",
    "    def __init__(self):\n",
    "        super(ODENet, self).__init__()\n",
    "        self.dense1 = tf.keras.layers.Dense(100, activation='sigmoid')\n",
    "        self.dense2 = tf.keras.layers.Dense(100, activation='sigmoid')\n",
    "        self.dense3 = tf.keras.layers.Dense(1, activation='linear')\n",
    "\n",
    "    def call(self, x):\n",
    "        x = self.dense1(x)\n",
    "        x = self.dense2(x)\n",
    "        return self.dense3(x)\n",
    "\n",
    "model = ODENet()\n",
    "\n",
    "def loss_fn(model, x):\n",
    "    with tf.GradientTape(persistent=True) as tape:\n",
    "        tape.watch(x)\n",
    "        y = model(x)\n",
    "        dy_dx = tape.gradient(y, x)\n",
    "    d2y_dx2 = tape.gradient(dy_dx, x)\n",
    "\n",
    "    # Residual from the differential equation\n",
    "    residual = d2y_dx2 - y\n",
    "\n",
    "    # Calculate the loss as the squared error\n",
    "    loss = tf.reduce_mean(tf.square(residual))\n",
    "\n",
    "    # Add boundary conditions to the loss\n",
    "    loss += tf.square(model(tf.constant([[0.0]], dtype=tf.float32)))\n",
    "    loss += tf.square(model(tf.constant([[1.0]], dtype=tf.float32)) - 1.0)\n",
    "    \n",
    "    return loss\n",
    "\n",
    "optimizer = tf.keras.optimizers.Adam(learning_rate=0.01)\n",
    "\n",
    "def train_step(model, x):\n",
    "    with tf.GradientTape() as tape:\n",
    "        loss = loss_fn(model, x)\n",
    "    grads = tape.gradient(loss, model.trainable_weights)\n",
    "    optimizer.apply_gradients(zip(grads, model.trainable_weights))\n",
    "    return loss\n",
    "\n",
    "x_samples = tf.convert_to_tensor(np.linspace(0, 5, 500).reshape(-1, 1), dtype=tf.float32)\n",
    "\n",
    "for step in range(20000):\n",
    "    loss = train_step(model, x_samples)\n",
    "    if step % 1000 == 0:\n",
    "        print(f\"Step: {step}, Loss: {loss.numpy()}\")\n",
    "\n",
    "\n",
    "# Define the analytical solution\n",
    "def analytical_solution(t):\n",
    "    e = np.exp(1)\n",
    "    return (np.exp(t) - np.exp(-t) - (e - e**-1) * t) / (e - e**-1)\n",
    "\n",
    "x_test = np.linspace(0, 5, 1000).reshape(-1, 1)\n",
    "y_true = analytical_solution(x_test)\n",
    "y_pred = model.predict(x_test)\n",
    "\n",
    "plt.figure(figsize=(10, 6))\n",
    "plt.plot(x_test, y_true, label='Analytical Solution', color='blue')\n",
    "plt.plot(x_test, y_pred, label='Model Prediction', color='red', linestyle='--')\n",
    "plt.xlabel('x')\n",
    "plt.ylabel('y')\n",
    "plt.legend()\n",
    "plt.title('Comparison of Analytical Solution and Model Prediction over [0, 5]')\n",
    "plt.show()\n",
    "\n"
   ]
  },
  {
   "cell_type": "code",
   "execution_count": 3,
   "metadata": {},
   "outputs": [],
   "source": [
    "\n",
    "#y'' = y , y(0)=0, y(1)=1\n"
   ]
  }
 ],
 "metadata": {
  "kernelspec": {
   "display_name": "Python 3.11.6 64-bit",
   "language": "python",
   "name": "python3"
  },
  "language_info": {
   "codemirror_mode": {
    "name": "ipython",
    "version": 3
   },
   "file_extension": ".py",
   "mimetype": "text/x-python",
   "name": "python",
   "nbconvert_exporter": "python",
   "pygments_lexer": "ipython3",
   "version": "3.11.6"
  },
  "orig_nbformat": 4,
  "vscode": {
   "interpreter": {
    "hash": "aee8b7b246df8f9039afb4144a1f6fd8d2ca17a180786b69acc140d282b71a49"
   }
  }
 },
 "nbformat": 4,
 "nbformat_minor": 2
}
